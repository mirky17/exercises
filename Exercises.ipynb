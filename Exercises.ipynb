{
 "cells": [
  {
   "cell_type": "code",
   "execution_count": null,
   "id": "83eac3c4",
   "metadata": {},
   "outputs": [],
   "source": [
    "### Exercise 1\n",
    "my_name = 'Mirna'\n",
    "print(my_name)"
   ]
  },
  {
   "cell_type": "code",
   "execution_count": null,
   "id": "c5823807",
   "metadata": {},
   "outputs": [],
   "source": [
    "### Exercise 2\n",
    "age = 92\n",
    "print(age)"
   ]
  },
  {
   "cell_type": "code",
   "execution_count": null,
   "id": "2ebfd4b5",
   "metadata": {},
   "outputs": [],
   "source": [
    "### Exercise 3\n",
    "julia_age = 32\n",
    "age_diff = age- julia_age\n",
    "print(age_diff)\n"
   ]
  },
  {
   "cell_type": "code",
   "execution_count": null,
   "id": "8173ccf3",
   "metadata": {},
   "outputs": [],
   "source": [
    "### Exercise 4 \n",
    "if age > 21:\n",
    "    print('you are older than 21')\n",
    "else:\n",
    "    print('you are not older than 21')\n"
   ]
  },
  {
   "cell_type": "code",
   "execution_count": null,
   "id": "6fa8cc7f",
   "metadata": {},
   "outputs": [],
   "source": [
    "### Exercise 5\n",
    "if age > julia_age:\n",
    "    print('Im older than Julia')\n",
    "elif age == julia_age:\n",
    "    print('Julia is the same age as me')\n",
    "else:\n",
    "    print(\"I'm older than Julia\")"
   ]
  },
  {
   "cell_type": "code",
   "execution_count": 46,
   "id": "45985ecd",
   "metadata": {},
   "outputs": [
    {
     "name": "stdout",
     "output_type": "stream",
     "text": [
      "Killian\n"
     ]
    }
   ],
   "source": [
    "### Exercise 6 >>> Create a list with all the names of your class (including mentors). Sort the list alphabetically. Then print the first element of the list. On the next line,\n",
    "#  print the last element of the list. On the next line, print all the elements of the list (use a \"for\" loop). Save the file and run the cell.\n",
    "#  You should see the first element of the sorted list, the last element of the sorted list,\n",
    "#  and all the elements in order in the list.\n",
    "mintgreen_oss = ['Ottavia', 'Yana', 'Monica', 'Sandra', 'Ursula', 'Mirna', 'Killian']\n",
    "mintgreen_oss.sort()\n",
    "print(mintgreen_oss[0])"
   ]
  },
  {
   "cell_type": "code",
   "execution_count": null,
   "id": "4231485a",
   "metadata": {},
   "outputs": [],
   "source": [
    "for name in mintgreen_oss:\n",
    "    print(name)"
   ]
  },
  {
   "cell_type": "code",
   "execution_count": 81,
   "id": "1acdb954",
   "metadata": {},
   "outputs": [
    {
     "name": "stdout",
     "output_type": "stream",
     "text": [
      "30\n",
      "32\n"
     ]
    }
   ],
   "source": [
    "### Exercise 7\n",
    "ages = [30, 32, 39, 45]\n",
    "for x in ages:\n",
    "   if x% 2 == 0:\n",
    "    print(x)"
   ]
  },
  {
   "cell_type": "code",
   "execution_count": 82,
   "id": "81e4bede",
   "metadata": {},
   "outputs": [
    {
     "data": {
      "text/plain": [
       "4"
      ]
     },
     "execution_count": 82,
     "metadata": {},
     "output_type": "execute_result"
    }
   ],
   "source": [
    "len(ages)"
   ]
  },
  {
   "cell_type": "code",
   "execution_count": 83,
   "id": "8f664f73",
   "metadata": {},
   "outputs": [
    {
     "name": "stdout",
     "output_type": "stream",
     "text": [
      "30 32 "
     ]
    }
   ],
   "source": [
    ",\n",
    "num = 0\n",
    "\n",
    "while num < len(ages):\n",
    "    if ages[num] % 2 == 0:\n",
    "        print(ages[num], end=\" \")\n",
    "    num += 1 #mndif 1 m3 kl lffe"
   ]
  },
  {
   "cell_type": "code",
   "execution_count": 31,
   "id": "312ccf7e",
   "metadata": {},
   "outputs": [
    {
     "data": {
      "text/plain": [
       "5"
      ]
     },
     "execution_count": 31,
     "metadata": {},
     "output_type": "execute_result"
    }
   ],
   "source": [
    "### Exercise 8\n",
    "list1 = [10, 5, 8, 87, 60]\n",
    "min(list1)"
   ]
  },
  {
   "cell_type": "code",
   "execution_count": 60,
   "id": "54422693",
   "metadata": {},
   "outputs": [
    {
     "data": {
      "text/plain": [
       "[5, 8, 10, 60]"
      ]
     },
     "execution_count": 60,
     "metadata": {},
     "output_type": "execute_result"
    }
   ],
   "source": [
    "list1\n",
    "list1.sort()\n",
    "list1[0:-1]"
   ]
  },
  {
   "cell_type": "code",
   "execution_count": 35,
   "id": "709f6fd2",
   "metadata": {},
   "outputs": [
    {
     "name": "stdout",
     "output_type": "stream",
     "text": [
      "the smallest num is: 5\n"
     ]
    }
   ],
   "source": [
    "### Exercise 9\n",
    "list1.sort()\n",
    "print('the smallest num is:', list1[0])"
   ]
  },
  {
   "cell_type": "code",
   "execution_count": 50,
   "id": "b9254cd3",
   "metadata": {},
   "outputs": [
    {
     "name": "stdout",
     "output_type": "stream",
     "text": [
      "age of customer 23\n",
      "age of customer 27\n",
      "age of customer 17\n",
      "age of customer 12\n",
      "age of customer 15\n",
      "age of customer 16\n",
      "age of customer 28\n",
      "age of customer 26\n",
      "age of customer 43\n",
      "age of customer 14\n"
     ]
    }
   ],
   "source": [
    "### Exercise 10\n",
    "from datetime import date\n",
    "date1= date.today().year\n",
    "customers = [1999, 1995, 2005, 2010, 2007, 2006, 1994, 1996, 1979, 2008]\n",
    "\n",
    "\n",
    "for x in customers:\n",
    "    print('age of customer', date1-x)"
   ]
  },
  {
   "cell_type": "code",
   "execution_count": 67,
   "id": "89a93f63",
   "metadata": {},
   "outputs": [],
   "source": [
    "a = {\"name\": \"Bob\", \"age\": 1999}"
   ]
  },
  {
   "cell_type": "code",
   "execution_count": 68,
   "id": "d7102442",
   "metadata": {},
   "outputs": [
    {
     "data": {
      "text/plain": [
       "{'name': 'Bob', 'age': 1999}"
      ]
     },
     "execution_count": 68,
     "metadata": {},
     "output_type": "execute_result"
    }
   ],
   "source": [
    "a"
   ]
  },
  {
   "cell_type": "code",
   "execution_count": 71,
   "id": "4c0515a2",
   "metadata": {},
   "outputs": [
    {
     "name": "stdout",
     "output_type": "stream",
     "text": [
      "Bob\n",
      "1999\n"
     ]
    }
   ],
   "source": [
    "for key, value in a.items():\n",
    "    print(value)"
   ]
  },
  {
   "cell_type": "code",
   "execution_count": 84,
   "id": "11f330dd",
   "metadata": {},
   "outputs": [
    {
     "name": "stdout",
     "output_type": "stream",
     "text": [
      "Bob is 23\n",
      "Jack is 27\n",
      "Lisa is 17\n",
      "Maria is 12\n",
      "Ben is 15\n",
      "Emma is 16\n",
      "Oscar is 28\n",
      "Amy is 26\n",
      "Paul is 43\n",
      "Etta is 14\n"
     ]
    }
   ],
   "source": [
    "### Exercise 11\n",
    "customer_list = [\n",
    "                    {\"name\": \"Bob\", \"age\": 1999},\n",
    "                    {\"name\": \"Jack\", \"age\": 1995},\n",
    "                    {\"name\": \"Lisa\", \"age\": 2005},\n",
    "                    {\"name\": \"Maria\", \"age\": 2010},\n",
    "                    {\"name\": \"Ben\", \"age\": 2007},\n",
    "                    {\"name\": \"Emma\", \"age\": 2006},\n",
    "                    {\"name\": \"Oscar\", \"age\": 1994},\n",
    "                    {\"name\": \"Amy\", \"age\": 1996},\n",
    "                    {\"name\": \"Paul\", \"age\": 1979},\n",
    "                    {\"name\": \"Etta\", \"age\": 2008}\n",
    "                ]\n",
    "            \n",
    "from datetime import date\n",
    "date1= date.today().year\n",
    "\n",
    "for person in customer_list:\n",
    "    print(person['name'], 'is' , date1-person['age'])\n",
    "                \n"
   ]
  },
  {
   "cell_type": "code",
   "execution_count": 6,
   "id": "10652cad",
   "metadata": {},
   "outputs": [
    {
     "name": "stdout",
     "output_type": "stream",
     "text": [
      "[11, 12, 13, 14, 20, 23, 24, 25]\n"
     ]
    }
   ],
   "source": [
    "### Exercise 12 >> Given a list of ages, remove the youngest and the oldest person.\n",
    "ages12 = [20, 24, 14, 9, 12, 13, 25, 23, 40, 11]\n",
    "\n",
    "ages12.sort()\n",
    "print (ages12[1:-1])"
   ]
  },
  {
   "cell_type": "code",
   "execution_count": 76,
   "id": "23ae199f",
   "metadata": {},
   "outputs": [
    {
     "name": "stdout",
     "output_type": "stream",
     "text": [
      "[15, 13, 16, 18, 19, 10]\n"
     ]
    }
   ],
   "source": [
    "### Exercise 13 >> You have two lists with ages of customers from different cities.The task is to create an other list with the common ages.\n",
    "berlin = [15, 13, 16, 18, 19, 10, 12 ]\n",
    "munich = [7, 13, 15, 20, 19, 18, 10, 16]\n",
    "y = []\n",
    "for x in berlin:\n",
    "    if x in munich:\n",
    "        y.append(x)\n",
    "print(y)\n",
    "\n"
   ]
  },
  {
   "cell_type": "code",
   "execution_count": 85,
   "id": "657ed2df",
   "metadata": {},
   "outputs": [
    {
     "name": "stdout",
     "output_type": "stream",
     "text": [
      "[15, 13, 16, 18, 19, 10]\n"
     ]
    }
   ],
   "source": [
    "\n",
    "### ex 13 app 2 comprehension read about it\n",
    "common = [num for num in berlin if num in munich]\n",
    "print(common)"
   ]
  },
  {
   "cell_type": "code",
   "execution_count": 11,
   "id": "965f1a84",
   "metadata": {},
   "outputs": [
    {
     "name": "stdout",
     "output_type": "stream",
     "text": [
      "[10, 13, 15, 16, 18, 19]\n"
     ]
    }
   ],
   "source": [
    "### Exercise 14 >>> You have a list with ages.Remove the duplicates.\n",
    "hey = [15,13,16,18,19,15,10]\n",
    "hey = list(set(hey))\n",
    "print(hey)\n"
   ]
  },
  {
   "cell_type": "code",
   "execution_count": 30,
   "id": "5a0b19d2",
   "metadata": {},
   "outputs": [
    {
     "name": "stdout",
     "output_type": "stream",
     "text": [
      "welcome Evelyn, have a nice day!\n",
      "welcome Jost, have a nice day!\n"
     ]
    }
   ],
   "source": [
    "### Exercise 15 >>> Write a function that works like below:\n",
    "#Function name: welcome\n",
    "#welcome('Evelyn') would print- 'Welcome Evelyn, have a nice day!'\n",
    "#welcome('Jost'), it would print - 'Welcome Jost, have a nice day!'\n",
    "def welcome(name):\n",
    "    print(f'welcome {name}, have a nice day!')\n",
    "       \n",
    "welcome('Evelyn')\n",
    "welcome('Jost')"
   ]
  },
  {
   "cell_type": "code",
   "execution_count": 86,
   "id": "07a65e8f",
   "metadata": {},
   "outputs": [
    {
     "data": {
      "text/plain": [
       "('Hello', 5)"
      ]
     },
     "execution_count": 86,
     "metadata": {},
     "output_type": "execute_result"
    }
   ],
   "source": [
    "### Exercise 16 >>> Write a function that takes a string as input and calculates the length.\n",
    "\n",
    "#Function name: get_length\n",
    "#get_length('Hello') would print / return 5.\n",
    "#get_length('Hi') would print / return 2.\n",
    "def get_length(s):\n",
    "    output= s + ''\n",
    "    return(output, len(output) )\n",
    "\n",
    "\n",
    "get_length('Hello')\n"
   ]
  },
  {
   "cell_type": "code",
   "execution_count": 56,
   "id": "ad6d6fc6",
   "metadata": {},
   "outputs": [
    {
     "data": {
      "text/plain": [
       "'No'"
      ]
     },
     "execution_count": 56,
     "metadata": {},
     "output_type": "execute_result"
    }
   ],
   "source": [
    "### Exercise 17 >>> Write a function which checks whether a number is even.\n",
    "\n",
    "#Hint: Think about the modulus operator\n",
    "#Function name: check_even\n",
    "#check_even(6) would print / return 'Yes'\n",
    "#check_even(5) would print / return 'No'\n",
    "def check_even(a):\n",
    "    if a % 2 == 0:\n",
    "        return('Yes')\n",
    "    else:\n",
    "        return('No')\n",
    "\n",
    "check_even(6)\n",
    "check_even(5)"
   ]
  },
  {
   "cell_type": "code",
   "execution_count": 79,
   "id": "60bd0fb1",
   "metadata": {},
   "outputs": [
    {
     "name": "stdout",
     "output_type": "stream",
     "text": [
      "Bob 23\n",
      "Jack 27\n",
      "Lisa 17\n",
      "Maria 12\n",
      "Ben 15\n",
      "Emma 16\n",
      "Oscar 28\n",
      "Amy 26\n",
      "Paul 43\n",
      "Etta 14\n"
     ]
    }
   ],
   "source": [
    "### Exercise 18 >>> Rewrite exercises 11, 12, 13, 14, 15 in a function. >>>>sh#% :)<<<<\n",
    "# Ex 11 \n",
    "customer_list = [\n",
    "                    {\"name\": \"Bob\", \"age\": 1999},\n",
    "                    {\"name\": \"Jack\", \"age\": 1995},\n",
    "                    {\"name\": \"Lisa\", \"age\": 2005},\n",
    "                    {\"name\": \"Maria\", \"age\": 2010},\n",
    "                    {\"name\": \"Ben\", \"age\": 2007},\n",
    "                    {\"name\": \"Emma\", \"age\": 2006},\n",
    "                    {\"name\": \"Oscar\", \"age\": 1994},\n",
    "                    {\"name\": \"Amy\", \"age\": 1996},\n",
    "                    {\"name\": \"Paul\", \"age\": 1979},\n",
    "                    {\"name\": \"Etta\", \"age\": 2008}\n",
    "                ]\n",
    "            \n",
    "from datetime import date\n",
    "date1= date.today().year\n",
    "\n",
    "for person in customer_list:\n",
    "    print(person['name'], date1-person['age'])\n",
    "\n",
    "\n",
    "                \n"
   ]
  },
  {
   "cell_type": "code",
   "execution_count": 77,
   "id": "5829bdc3",
   "metadata": {},
   "outputs": [
    {
     "data": {
      "text/plain": [
       "'No'"
      ]
     },
     "execution_count": 77,
     "metadata": {},
     "output_type": "execute_result"
    }
   ],
   "source": [
    "### Exercise 19 >>> Write a function that takes an input list and value of age to find as input and return true or false if the age value is present or not in the list.\n",
    "x = [12,18,35,50]\n",
    "def function(y):\n",
    "    if y in x:\n",
    "        return('Yes')\n",
    "    else:\n",
    "        return('No')\n",
    "\n",
    "function(15)"
   ]
  },
  {
   "cell_type": "code",
   "execution_count": null,
   "id": "faa84280",
   "metadata": {},
   "outputs": [],
   "source": []
  }
 ],
 "metadata": {
  "kernelspec": {
   "display_name": "Python 3.8.8 ('base')",
   "language": "python",
   "name": "python3"
  },
  "language_info": {
   "codemirror_mode": {
    "name": "ipython",
    "version": 3
   },
   "file_extension": ".py",
   "mimetype": "text/x-python",
   "name": "python",
   "nbconvert_exporter": "python",
   "pygments_lexer": "ipython3",
   "version": "3.8.8"
  },
  "vscode": {
   "interpreter": {
    "hash": "c5dd70aeeb68a09bfe885d98b85a8b6e6d882770657d974595264eaab2298537"
   }
  }
 },
 "nbformat": 4,
 "nbformat_minor": 5
}
